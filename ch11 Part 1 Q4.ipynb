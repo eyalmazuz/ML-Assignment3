{
 "cells": [
  {
   "cell_type": "code",
   "execution_count": 22,
   "id": "a1bcf138",
   "metadata": {},
   "outputs": [],
   "source": [
    "import numpy as np\n",
    "from sklearn.model_selection import train_test_split\n",
    "from sklearn.metrics import roc_auc_score\n",
    "import matplotlib.pyplot as plt\n",
    "import torch\n",
    "from torch.nn import functional as F\n",
    "from torch import nn\n",
    "import torchvision"
   ]
  },
  {
   "cell_type": "code",
   "execution_count": 23,
   "id": "abb5ed4c",
   "metadata": {},
   "outputs": [
    {
     "name": "stdout",
     "output_type": "stream",
     "text": [
      "(70000, 784)\n",
      "(70000,)\n"
     ]
    }
   ],
   "source": [
    "from sklearn.datasets import fetch_openml\n",
    "\n",
    "\n",
    "X, y = fetch_openml('mnist_784', version=1, return_X_y=True)\n",
    "X = X.values\n",
    "y = y.astype(int).values\n",
    "\n",
    "print(X.shape)\n",
    "print(y.shape)"
   ]
  },
  {
   "cell_type": "code",
   "execution_count": 24,
   "id": "f43825c4",
   "metadata": {},
   "outputs": [],
   "source": [
    "X = ((X / 255.) - .5) * 2"
   ]
  },
  {
   "cell_type": "code",
   "execution_count": 25,
   "id": "1a0e0800",
   "metadata": {},
   "outputs": [],
   "source": [
    "X_train, X_test, y_train, y_test = train_test_split(\n",
    "    X, y, test_size=0.7, random_state=123, stratify=y)\n",
    "\n",
    "# X_train, X_valid, y_train, y_valid = train_test_split(\n",
    "#     X_temp, y_temp, test_size=5000, random_state=123, stratify=y_temp)\n",
    "\n",
    "\n",
    "# # optional to free up some memory by deleting non-used arrays:\n",
    "# del X_temp, y_temp, X, y"
   ]
  },
  {
   "cell_type": "code",
   "execution_count": 34,
   "id": "2dc34de9",
   "metadata": {},
   "outputs": [],
   "source": [
    "class Dataset(torch.utils.data.Dataset):\n",
    "    def __init__(self, x, y):\n",
    "        self.x = x.astype(float)\n",
    "        self.y = y\n",
    "        \n",
    "    def __len__(self):\n",
    "        return len(self.x)\n",
    "    \n",
    "    def __getitem__(self, idx):\n",
    "        return self.x[idx], self.y[idx]"
   ]
  },
  {
   "cell_type": "code",
   "execution_count": 67,
   "id": "03f567b6",
   "metadata": {},
   "outputs": [],
   "source": [
    "train_loader = torch.utils.data.DataLoader(Dataset(X_train, y_train), shuffle=True, num_workers=8, batch_size=128)\n",
    "test_loader = torch.utils.data.DataLoader(Dataset(X_test, y_test), shuffle=False, num_workers=8, batch_size=128)"
   ]
  },
  {
   "cell_type": "code",
   "execution_count": 68,
   "id": "f9848b83",
   "metadata": {},
   "outputs": [],
   "source": [
    "class Net(nn.Module):\n",
    "    \n",
    "    def __init__(self, hidden_size, num_classes):\n",
    "        super().__init__()\n",
    "        \n",
    "        self.linear1 = nn.Linear(784, hidden_size)\n",
    "        self.linear2 = nn.Linear(hidden_size, hidden_size)\n",
    "        self.linear3 = nn.Linear(hidden_size, num_classes)\n",
    "        \n",
    "    def forward(self, x):\n",
    "        x = F.relu(self.linear1(x))\n",
    "        x = F.relu(self.linear2(x))\n",
    "        x = F.softmax(self.linear3(x), dim=-1)\n",
    "        \n",
    "        return x"
   ]
  },
  {
   "cell_type": "code",
   "execution_count": 69,
   "id": "03fe74e4",
   "metadata": {},
   "outputs": [],
   "source": [
    "train_losses = []\n",
    "train_accs = []\n",
    "\n",
    "test_losses = []\n",
    "test_accs = []"
   ]
  },
  {
   "cell_type": "code",
   "execution_count": 70,
   "id": "72d87a68",
   "metadata": {},
   "outputs": [],
   "source": [
    "def train(epoch):\n",
    "    network.train()\n",
    "    correct = 0\n",
    "    for batch_idx, (data, target) in enumerate(train_loader):\n",
    "        optimizer.zero_grad()\n",
    "        output = network(data.float().cuda())\n",
    "        loss = F.cross_entropy(output, target.cuda())\n",
    "        loss.backward()\n",
    "        optimizer.step()\n",
    "        \n",
    "        pred = output.data.max(1, keepdim=True)[1]\n",
    "        correct += pred.detach().eq(target.cuda().data.view_as(pred)).sum()\n",
    "    train_losses.append(loss.item())\n",
    "    train_accs.append((correct / len(train_loader.dataset)).cpu().item())\n"
   ]
  },
  {
   "cell_type": "code",
   "execution_count": 71,
   "id": "d0ccce57",
   "metadata": {},
   "outputs": [],
   "source": [
    "def test():\n",
    "    network.eval()\n",
    "    test_loss = 0\n",
    "    correct = 0\n",
    "    with torch.no_grad():\n",
    "        for data, target in test_loader:\n",
    "            output = network(data.float().cuda())\n",
    "            test_loss += F.cross_entropy(output, target.cuda()).item()\n",
    "            pred = output.data.max(1, keepdim=True)[1]\n",
    "            correct += pred.eq(target.cuda().data.view_as(pred)).sum()\n",
    "    test_loss /= len(test_loader.dataset)\n",
    "    test_losses.append(test_loss)\n",
    "    test_accs.append((correct / len(test_loader.dataset)).cpu().item())\n",
    "    print('\\nTest set: Avg. loss: {:.4f}, Accuracy: {}/{} ({:.0f}%)\\n'.format(\n",
    "            test_loss, correct, len(test_loader.dataset),\n",
    "            100. * correct / len(test_loader.dataset)))"
   ]
  },
  {
   "cell_type": "code",
   "execution_count": 72,
   "id": "c38ce53c",
   "metadata": {},
   "outputs": [],
   "source": [
    "network = Net(128, 10).cuda()\n",
    "optimizer = torch.optim.Adam(network.parameters(), lr=1e-4)"
   ]
  },
  {
   "cell_type": "code",
   "execution_count": 73,
   "id": "ba3805f9",
   "metadata": {
    "scrolled": true
   },
   "outputs": [
    {
     "name": "stdout",
     "output_type": "stream",
     "text": [
      "\n",
      "Test set: Avg. loss: 0.0150, Accuracy: 32359/49000 (66%)\n",
      "\n",
      "\n",
      "Test set: Avg. loss: 0.0138, Accuracy: 36019/49000 (74%)\n",
      "\n",
      "\n",
      "Test set: Avg. loss: 0.0136, Accuracy: 36563/49000 (75%)\n",
      "\n",
      "\n",
      "Test set: Avg. loss: 0.0135, Accuracy: 36811/49000 (75%)\n",
      "\n",
      "\n",
      "Test set: Avg. loss: 0.0134, Accuracy: 36972/49000 (75%)\n",
      "\n",
      "\n",
      "Test set: Avg. loss: 0.0132, Accuracy: 39219/49000 (80%)\n",
      "\n",
      "\n",
      "Test set: Avg. loss: 0.0127, Accuracy: 42978/49000 (88%)\n",
      "\n",
      "\n",
      "Test set: Avg. loss: 0.0124, Accuracy: 44017/49000 (90%)\n",
      "\n",
      "\n",
      "Test set: Avg. loss: 0.0124, Accuracy: 44195/49000 (90%)\n",
      "\n",
      "\n",
      "Test set: Avg. loss: 0.0123, Accuracy: 44404/49000 (91%)\n",
      "\n",
      "\n",
      "Test set: Avg. loss: 0.0123, Accuracy: 44537/49000 (91%)\n",
      "\n",
      "\n",
      "Test set: Avg. loss: 0.0123, Accuracy: 44442/49000 (91%)\n",
      "\n",
      "\n",
      "Test set: Avg. loss: 0.0122, Accuracy: 44699/49000 (91%)\n",
      "\n",
      "\n",
      "Test set: Avg. loss: 0.0122, Accuracy: 44615/49000 (91%)\n",
      "\n",
      "\n",
      "Test set: Avg. loss: 0.0122, Accuracy: 44882/49000 (92%)\n",
      "\n",
      "\n",
      "Test set: Avg. loss: 0.0122, Accuracy: 44880/49000 (92%)\n",
      "\n",
      "\n",
      "Test set: Avg. loss: 0.0121, Accuracy: 44977/49000 (92%)\n",
      "\n",
      "\n",
      "Test set: Avg. loss: 0.0121, Accuracy: 44992/49000 (92%)\n",
      "\n",
      "\n",
      "Test set: Avg. loss: 0.0121, Accuracy: 45019/49000 (92%)\n",
      "\n",
      "\n",
      "Test set: Avg. loss: 0.0121, Accuracy: 45122/49000 (92%)\n",
      "\n",
      "\n",
      "Test set: Avg. loss: 0.0121, Accuracy: 45123/49000 (92%)\n",
      "\n",
      "\n",
      "Test set: Avg. loss: 0.0121, Accuracy: 45039/49000 (92%)\n",
      "\n",
      "\n",
      "Test set: Avg. loss: 0.0121, Accuracy: 45185/49000 (92%)\n",
      "\n",
      "\n",
      "Test set: Avg. loss: 0.0121, Accuracy: 45257/49000 (92%)\n",
      "\n",
      "\n",
      "Test set: Avg. loss: 0.0121, Accuracy: 45286/49000 (92%)\n",
      "\n",
      "\n",
      "Test set: Avg. loss: 0.0121, Accuracy: 45325/49000 (92%)\n",
      "\n",
      "\n",
      "Test set: Avg. loss: 0.0120, Accuracy: 45409/49000 (93%)\n",
      "\n",
      "\n",
      "Test set: Avg. loss: 0.0120, Accuracy: 45453/49000 (93%)\n",
      "\n",
      "\n",
      "Test set: Avg. loss: 0.0120, Accuracy: 45491/49000 (93%)\n",
      "\n",
      "\n",
      "Test set: Avg. loss: 0.0120, Accuracy: 45511/49000 (93%)\n",
      "\n",
      "\n",
      "Test set: Avg. loss: 0.0120, Accuracy: 45470/49000 (93%)\n",
      "\n",
      "\n",
      "Test set: Avg. loss: 0.0120, Accuracy: 45529/49000 (93%)\n",
      "\n",
      "\n",
      "Test set: Avg. loss: 0.0120, Accuracy: 45536/49000 (93%)\n",
      "\n",
      "\n",
      "Test set: Avg. loss: 0.0120, Accuracy: 45637/49000 (93%)\n",
      "\n",
      "\n",
      "Test set: Avg. loss: 0.0120, Accuracy: 45655/49000 (93%)\n",
      "\n",
      "\n",
      "Test set: Avg. loss: 0.0120, Accuracy: 45627/49000 (93%)\n",
      "\n",
      "\n",
      "Test set: Avg. loss: 0.0120, Accuracy: 45648/49000 (93%)\n",
      "\n",
      "\n",
      "Test set: Avg. loss: 0.0120, Accuracy: 45745/49000 (93%)\n",
      "\n",
      "\n",
      "Test set: Avg. loss: 0.0120, Accuracy: 45731/49000 (93%)\n",
      "\n",
      "\n",
      "Test set: Avg. loss: 0.0120, Accuracy: 45796/49000 (93%)\n",
      "\n",
      "\n",
      "Test set: Avg. loss: 0.0120, Accuracy: 45737/49000 (93%)\n",
      "\n",
      "\n",
      "Test set: Avg. loss: 0.0120, Accuracy: 45796/49000 (93%)\n",
      "\n",
      "\n",
      "Test set: Avg. loss: 0.0120, Accuracy: 45856/49000 (94%)\n",
      "\n",
      "\n",
      "Test set: Avg. loss: 0.0120, Accuracy: 45851/49000 (94%)\n",
      "\n",
      "\n",
      "Test set: Avg. loss: 0.0120, Accuracy: 45782/49000 (93%)\n",
      "\n",
      "\n",
      "Test set: Avg. loss: 0.0120, Accuracy: 45893/49000 (94%)\n",
      "\n",
      "\n",
      "Test set: Avg. loss: 0.0119, Accuracy: 45930/49000 (94%)\n",
      "\n",
      "\n",
      "Test set: Avg. loss: 0.0119, Accuracy: 45950/49000 (94%)\n",
      "\n",
      "\n",
      "Test set: Avg. loss: 0.0119, Accuracy: 45970/49000 (94%)\n",
      "\n",
      "\n",
      "Test set: Avg. loss: 0.0119, Accuracy: 45922/49000 (94%)\n",
      "\n"
     ]
    }
   ],
   "source": [
    "for epoch in range(1, 50 + 1):\n",
    "    train(epoch)\n",
    "    test()"
   ]
  },
  {
   "cell_type": "code",
   "execution_count": 74,
   "id": "02aa9498",
   "metadata": {},
   "outputs": [],
   "source": [
    "probs = []\n",
    "targets = []\n",
    "with torch.no_grad():\n",
    "        for data, target in test_loader:\n",
    "            output = network(data.float().cuda())\n",
    "            probs += output.cpu().numpy().tolist()\n",
    "            targets += target.cpu().numpy().tolist()"
   ]
  },
  {
   "cell_type": "code",
   "execution_count": 75,
   "id": "77a55562",
   "metadata": {},
   "outputs": [
    {
     "data": {
      "text/plain": [
       "0.9948244511737487"
      ]
     },
     "execution_count": 75,
     "metadata": {},
     "output_type": "execute_result"
    }
   ],
   "source": [
    "roc_auc_score(targets, probs, average='macro', multi_class='ovr')"
   ]
  },
  {
   "cell_type": "code",
   "execution_count": 86,
   "id": "93bf9374",
   "metadata": {},
   "outputs": [
    {
     "data": {
      "image/png": "[encoded data removed]",
      "text/plain": [
       "<Figure size 432x288 with 1 Axes>"
      ]
     },
     "metadata": {
      "needs_background": "light"
     },
     "output_type": "display_data"
    }
   ],
   "source": [
    "plt.plot(range(len(train_losses)), train_losses)\n",
    "plt.ylabel('Cross Entropy')\n",
    "plt.xlabel('Epoch')\n",
    "#plt.savefig('figures/11_07.png', dpi=300)\n",
    "plt.show()"
   ]
  },
  {
   "cell_type": "code",
   "execution_count": 83,
   "id": "85139ac6",
   "metadata": {},
   "outputs": [],
   "source": [
    "train_accs = [x.cpu().item() for x in train_accs]"
   ]
  },
  {
   "cell_type": "code",
   "execution_count": 84,
   "id": "85c24c96",
   "metadata": {},
   "outputs": [
    {
     "data": {
      "image/png": "[encoded data removed]",
      "text/plain": [
       "<Figure size 432x288 with 1 Axes>"
      ]
     },
     "metadata": {
      "needs_background": "light"
     },
     "output_type": "display_data"
    }
   ],
   "source": [
    "plt.plot(range(len(train_accs)), train_accs,\n",
    "         label='Training')\n",
    "plt.plot(range(len(test_accs)), test_accs,\n",
    "         label='Validation')\n",
    "plt.ylabel('Accuracy')\n",
    "plt.xlabel('Epochs')\n",
    "plt.legend(loc='lower right')\n",
    "#plt.savefig('figures/11_08.png', dpi=300)\n",
    "plt.show()"
   ]
  },
  {
   "cell_type": "code",
   "execution_count": null,
   "id": "355cd7a7",
   "metadata": {},
   "outputs": [],
   "source": []
  }
 ],
 "metadata": {
  "kernelspec": {
   "display_name": "Python 3 (ipykernel)",
   "language": "python",
   "name": "python3"
  },
  "language_info": {
   "codemirror_mode": {
    "name": "ipython",
    "version": 3
   },
   "file_extension": ".py",
   "mimetype": "text/x-python",
   "name": "python",
   "nbconvert_exporter": "python",
   "pygments_lexer": "ipython3",
   "version": "3.10.4"
  }
 },
 "nbformat": 4,
 "nbformat_minor": 5
}
